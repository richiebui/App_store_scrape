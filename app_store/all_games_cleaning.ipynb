{
 "cells": [
  {
   "cell_type": "code",
   "execution_count": 9,
   "metadata": {
    "collapsed": true
   },
   "outputs": [],
   "source": [
    "import pandas as pd\n",
    "import numpy as np\n",
    "import seaborn as sns\n",
    "import matplotlib.pyplot as plt\n",
    "%matplotlib inline\n",
    "import re"
   ]
  },
  {
   "cell_type": "code",
   "execution_count": 5,
   "metadata": {
    "collapsed": false
   },
   "outputs": [],
   "source": [
    "df = pd.read_csv('appstore_info.csv')"
   ]
  },
  {
   "cell_type": "code",
   "execution_count": 6,
   "metadata": {
    "collapsed": false
   },
   "outputs": [
    {
     "data": {
      "text/html": [
       "<div>\n",
       "<table border=\"1\" class=\"dataframe\">\n",
       "  <thead>\n",
       "    <tr style=\"text-align: right;\">\n",
       "      <th></th>\n",
       "      <th>age_rating</th>\n",
       "      <th>app_name</th>\n",
       "      <th>app_size</th>\n",
       "      <th>copy_right</th>\n",
       "      <th>in_app_purchases</th>\n",
       "      <th>lang</th>\n",
       "      <th>num_reviews</th>\n",
       "      <th>price</th>\n",
       "      <th>review_ratings</th>\n",
       "      <th>seller_name</th>\n",
       "      <th>version</th>\n",
       "    </tr>\n",
       "  </thead>\n",
       "  <tbody>\n",
       "    <tr>\n",
       "      <th>0</th>\n",
       "      <td>4+</td>\n",
       "      <td>ABC Cat</td>\n",
       "      <td>111.7 MB</td>\n",
       "      <td>© Reklamas Rima SIA</td>\n",
       "      <td>NaN</td>\n",
       "      <td>English</td>\n",
       "      <td>NaN</td>\n",
       "      <td>Free,Offers In-App Purchases</td>\n",
       "      <td>NaN</td>\n",
       "      <td>Reklamas Rima SIA</td>\n",
       "      <td>Version 1.3</td>\n",
       "    </tr>\n",
       "    <tr>\n",
       "      <th>1</th>\n",
       "      <td>4+</td>\n",
       "      <td>Abby Magnetic Toys (Toys, Letters, Building bl...</td>\n",
       "      <td>44.7 MB</td>\n",
       "      <td>© 22learn, LLC</td>\n",
       "      <td>NaN</td>\n",
       "      <td>English</td>\n",
       "      <td>27 Ratings</td>\n",
       "      <td>\\n                    ,\\n                  ,$1.99</td>\n",
       "      <td>3.8</td>\n",
       "      <td>22learn, LLC</td>\n",
       "      <td>Version 1.3</td>\n",
       "    </tr>\n",
       "    <tr>\n",
       "      <th>2</th>\n",
       "      <td>9+</td>\n",
       "      <td>Abandoned Creepy Factory Escape</td>\n",
       "      <td>34.3 MB</td>\n",
       "      <td>Infrequent/Mild Horror/Fear Themes</td>\n",
       "      <td>Ad_free,$0.99</td>\n",
       "      <td>English</td>\n",
       "      <td>NaN</td>\n",
       "      <td>Free,Offers In-App Purchases</td>\n",
       "      <td>NaN</td>\n",
       "      <td>Ponarangan R</td>\n",
       "      <td>Version 1.0.3</td>\n",
       "    </tr>\n",
       "    <tr>\n",
       "      <th>3</th>\n",
       "      <td>9+</td>\n",
       "      <td>Aaron Jetpack Expedition</td>\n",
       "      <td>26.3 MB</td>\n",
       "      <td>Infrequent/Mild Mature/Suggestive Themes</td>\n",
       "      <td>NaN</td>\n",
       "      <td>English</td>\n",
       "      <td>NaN</td>\n",
       "      <td>Free</td>\n",
       "      <td>NaN</td>\n",
       "      <td>Oliver Arellano</td>\n",
       "      <td>Version 1.1</td>\n",
       "    </tr>\n",
       "    <tr>\n",
       "      <th>4</th>\n",
       "      <td>12+</td>\n",
       "      <td>AAA Let it Hit the Vegas City &amp; Win Big Fortun...</td>\n",
       "      <td>43.1 MB</td>\n",
       "      <td>Frequent/Intense Simulated Gambling</td>\n",
       "      <td>NaN</td>\n",
       "      <td>English</td>\n",
       "      <td>19 Ratings</td>\n",
       "      <td>\\n                    ,\\n                  ,Fr...</td>\n",
       "      <td>4.5</td>\n",
       "      <td>Jamiee McClary</td>\n",
       "      <td>Version 2.0</td>\n",
       "    </tr>\n",
       "  </tbody>\n",
       "</table>\n",
       "</div>"
      ],
      "text/plain": [
       "  age_rating                                           app_name  app_size  \\\n",
       "0         4+                                            ABC Cat  111.7 MB   \n",
       "1         4+  Abby Magnetic Toys (Toys, Letters, Building bl...   44.7 MB   \n",
       "2         9+                    Abandoned Creepy Factory Escape   34.3 MB   \n",
       "3         9+                           Aaron Jetpack Expedition   26.3 MB   \n",
       "4        12+  AAA Let it Hit the Vegas City & Win Big Fortun...   43.1 MB   \n",
       "\n",
       "                                 copy_right in_app_purchases     lang  \\\n",
       "0                       © Reklamas Rima SIA              NaN  English   \n",
       "1                            © 22learn, LLC              NaN  English   \n",
       "2        Infrequent/Mild Horror/Fear Themes    Ad_free,$0.99  English   \n",
       "3  Infrequent/Mild Mature/Suggestive Themes              NaN  English   \n",
       "4       Frequent/Intense Simulated Gambling              NaN  English   \n",
       "\n",
       "  num_reviews                                              price  \\\n",
       "0         NaN                       Free,Offers In-App Purchases   \n",
       "1  27 Ratings  \\n                    ,\\n                  ,$1.99   \n",
       "2         NaN                       Free,Offers In-App Purchases   \n",
       "3         NaN                                               Free   \n",
       "4  19 Ratings  \\n                    ,\\n                  ,Fr...   \n",
       "\n",
       "   review_ratings        seller_name        version  \n",
       "0             NaN  Reklamas Rima SIA    Version 1.3  \n",
       "1             3.8       22learn, LLC    Version 1.3  \n",
       "2             NaN       Ponarangan R  Version 1.0.3  \n",
       "3             NaN    Oliver Arellano    Version 1.1  \n",
       "4             4.5     Jamiee McClary    Version 2.0  "
      ]
     },
     "execution_count": 6,
     "metadata": {},
     "output_type": "execute_result"
    }
   ],
   "source": [
    "df.head()"
   ]
  },
  {
   "cell_type": "code",
   "execution_count": 10,
   "metadata": {
    "collapsed": false
   },
   "outputs": [],
   "source": [
    "#get rid of '+' sign in age rating\n",
    "df.age_rating = df.age_rating.map(lambda x: re.sub('\\+', '', x))"
   ]
  },
  {
   "cell_type": "code",
   "execution_count": 12,
   "metadata": {
    "collapsed": false
   },
   "outputs": [],
   "source": [
    "#change app size to float and remove MB/GB\n",
    "df.app_size = df.app_size.replace(r'[GKM]B+$', '', regex=True).astype(float)\n",
    "df.app_size = df.app_size.map(lambda x: x*1000 if x < 2 else x)"
   ]
  },
  {
   "cell_type": "code",
   "execution_count": 25,
   "metadata": {
    "collapsed": false
   },
   "outputs": [
    {
     "data": {
      "text/plain": [
       "92265"
      ]
     },
     "execution_count": 25,
     "metadata": {},
     "output_type": "execute_result"
    }
   ],
   "source": [
    "len(df)\n"
   ]
  },
  {
   "cell_type": "code",
   "execution_count": null,
   "metadata": {
    "collapsed": true
   },
   "outputs": [],
   "source": []
  }
 ],
 "metadata": {
  "kernelspec": {
   "display_name": "Python 3",
   "language": "python",
   "name": "python3"
  },
  "language_info": {
   "codemirror_mode": {
    "name": "ipython",
    "version": 3
   },
   "file_extension": ".py",
   "mimetype": "text/x-python",
   "name": "python",
   "nbconvert_exporter": "python",
   "pygments_lexer": "ipython3",
   "version": "3.6.0"
  }
 },
 "nbformat": 4,
 "nbformat_minor": 2
}
